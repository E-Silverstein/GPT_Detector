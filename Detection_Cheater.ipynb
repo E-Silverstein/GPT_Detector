{
 "cells": [
  {
   "cell_type": "code",
   "execution_count": null,
   "metadata": {
    "collapsed": true
   },
   "outputs": [],
   "source": [
    "#Now we need to find a way to bypass the detector\n",
    "#Ideas:\n",
    "# - Use a system to find synonyms to adjust variability of sentences\n",
    "# - Use GPT to rewrite some of the sentences\n",
    "# - Use grammar checking engine to find errors like passive voice"
   ]
  }
 ],
 "metadata": {
  "kernelspec": {
   "display_name": "Python 3",
   "language": "python",
   "name": "python3"
  },
  "language_info": {
   "codemirror_mode": {
    "name": "ipython",
    "version": 2
   },
   "file_extension": ".py",
   "mimetype": "text/x-python",
   "name": "python",
   "nbconvert_exporter": "python",
   "pygments_lexer": "ipython2",
   "version": "2.7.6"
  }
 },
 "nbformat": 4,
 "nbformat_minor": 0
}
