{
 "cells": [
  {
   "cell_type": "code",
   "execution_count": 16,
   "metadata": {
    "collapsed": true
   },
   "outputs": [],
   "source": [
    "import matplotlib.pyplot as plt\n",
    "import pandas as pd\n",
    "import numpy as np\n",
    "from scipy import stats"
   ]
  },
  {
   "cell_type": "code",
   "execution_count": 2,
   "outputs": [],
   "source": [
    "#Importing testing data\n",
    "fullData = pd.read_csv(\"GPT-wiki-intro.csv\")\n",
    "gptDataSeries = fullData[\"generated_intro\"]\n",
    "humanDataSeries = fullData[\"wiki_intro\"]"
   ],
   "metadata": {
    "collapsed": false
   }
  },
  {
   "cell_type": "code",
   "execution_count": 3,
   "outputs": [],
   "source": [
    "gpt_df = gptDataSeries.to_frame()\n",
    "humanData_df = humanDataSeries.to_frame()\n",
    "# gpt_df.insert(1, 'avg_sentence_len', 0)\n",
    "# humanData_df.insert(1, 'avg_sentence_len', 0)\n",
    "gpt_df = gpt_df.rename(columns= {'generated_intro': 'text'})\n",
    "humanData_df = humanData_df.rename(columns= {'wiki_intro': 'text'})"
   ],
   "metadata": {
    "collapsed": false
   }
  },
  {
   "cell_type": "code",
   "execution_count": 4,
   "outputs": [
    {
     "data": {
      "text/plain": "                                                text\n0  Sexhow railway station was a railway station l...\n1  In Finnish folklore, all places and things, an...\n2  In mathematics, specifically differential calc...\n3  is a Japanese shōjo manga series written and i...\n4  Robert Milner \"Rob\" Bradley, Jr. (born August ...",
      "text/html": "<div>\n<style scoped>\n    .dataframe tbody tr th:only-of-type {\n        vertical-align: middle;\n    }\n\n    .dataframe tbody tr th {\n        vertical-align: top;\n    }\n\n    .dataframe thead th {\n        text-align: right;\n    }\n</style>\n<table border=\"1\" class=\"dataframe\">\n  <thead>\n    <tr style=\"text-align: right;\">\n      <th></th>\n      <th>text</th>\n    </tr>\n  </thead>\n  <tbody>\n    <tr>\n      <th>0</th>\n      <td>Sexhow railway station was a railway station l...</td>\n    </tr>\n    <tr>\n      <th>1</th>\n      <td>In Finnish folklore, all places and things, an...</td>\n    </tr>\n    <tr>\n      <th>2</th>\n      <td>In mathematics, specifically differential calc...</td>\n    </tr>\n    <tr>\n      <th>3</th>\n      <td>is a Japanese shōjo manga series written and i...</td>\n    </tr>\n    <tr>\n      <th>4</th>\n      <td>Robert Milner \"Rob\" Bradley, Jr. (born August ...</td>\n    </tr>\n  </tbody>\n</table>\n</div>"
     },
     "execution_count": 4,
     "metadata": {},
     "output_type": "execute_result"
    }
   ],
   "source": [
    "gpt_df.head()"
   ],
   "metadata": {
    "collapsed": false
   }
  },
  {
   "cell_type": "code",
   "execution_count": 5,
   "outputs": [],
   "source": [
    "def average_sentence_length(text):\n",
    "    lengths = 0\n",
    "    count = 0\n",
    "    sentences = text.split('.')\n",
    "    for sentence in sentences:\n",
    "        lengths += len(sentence)\n",
    "        count += 1\n",
    "    return lengths / count"
   ],
   "metadata": {
    "collapsed": false
   }
  },
  {
   "cell_type": "code",
   "execution_count": 6,
   "outputs": [],
   "source": [
    "gpt_df['avg_sentence_length'] = gpt_df.apply(lambda row: average_sentence_length(row['text']),axis=1)\n",
    "humanData_df['avg_sentence_length'] = humanData_df.apply(lambda row: average_sentence_length(row['text']),axis=1)"
   ],
   "metadata": {
    "collapsed": false
   }
  },
  {
   "cell_type": "code",
   "execution_count": 7,
   "outputs": [
    {
     "data": {
      "text/plain": "                                                text  avg_sentence_length\n0  Sexhow railway station was a railway station l...            73.833333\n1  In Finnish folklore, all places and things, an...            79.333333\n2  In mathematics, specifically differential calc...            81.800000\n3  is a Japanese shōjo manga series written and i...            60.909091\n4  Robert Milner \"Rob\" Bradley, Jr. (born August ...            69.545455",
      "text/html": "<div>\n<style scoped>\n    .dataframe tbody tr th:only-of-type {\n        vertical-align: middle;\n    }\n\n    .dataframe tbody tr th {\n        vertical-align: top;\n    }\n\n    .dataframe thead th {\n        text-align: right;\n    }\n</style>\n<table border=\"1\" class=\"dataframe\">\n  <thead>\n    <tr style=\"text-align: right;\">\n      <th></th>\n      <th>text</th>\n      <th>avg_sentence_length</th>\n    </tr>\n  </thead>\n  <tbody>\n    <tr>\n      <th>0</th>\n      <td>Sexhow railway station was a railway station l...</td>\n      <td>73.833333</td>\n    </tr>\n    <tr>\n      <th>1</th>\n      <td>In Finnish folklore, all places and things, an...</td>\n      <td>79.333333</td>\n    </tr>\n    <tr>\n      <th>2</th>\n      <td>In mathematics, specifically differential calc...</td>\n      <td>81.800000</td>\n    </tr>\n    <tr>\n      <th>3</th>\n      <td>is a Japanese shōjo manga series written and i...</td>\n      <td>60.909091</td>\n    </tr>\n    <tr>\n      <th>4</th>\n      <td>Robert Milner \"Rob\" Bradley, Jr. (born August ...</td>\n      <td>69.545455</td>\n    </tr>\n  </tbody>\n</table>\n</div>"
     },
     "execution_count": 7,
     "metadata": {},
     "output_type": "execute_result"
    }
   ],
   "source": [
    "gpt_df.head()"
   ],
   "metadata": {
    "collapsed": false
   }
  },
  {
   "cell_type": "code",
   "execution_count": 8,
   "outputs": [
    {
     "data": {
      "text/plain": "                                                text  avg_sentence_length\n0  Sexhow railway station was a railway station b...            97.600000\n1  In Finnish folklore, all places and things, an...            85.538462\n2  In mathematics, specifically differential calc...           220.000000\n3  is a Japanese shōjo manga series written and i...           121.933333\n4  Robert Milner \"Rob\" Bradley, Jr. (born August ...            79.692308",
      "text/html": "<div>\n<style scoped>\n    .dataframe tbody tr th:only-of-type {\n        vertical-align: middle;\n    }\n\n    .dataframe tbody tr th {\n        vertical-align: top;\n    }\n\n    .dataframe thead th {\n        text-align: right;\n    }\n</style>\n<table border=\"1\" class=\"dataframe\">\n  <thead>\n    <tr style=\"text-align: right;\">\n      <th></th>\n      <th>text</th>\n      <th>avg_sentence_length</th>\n    </tr>\n  </thead>\n  <tbody>\n    <tr>\n      <th>0</th>\n      <td>Sexhow railway station was a railway station b...</td>\n      <td>97.600000</td>\n    </tr>\n    <tr>\n      <th>1</th>\n      <td>In Finnish folklore, all places and things, an...</td>\n      <td>85.538462</td>\n    </tr>\n    <tr>\n      <th>2</th>\n      <td>In mathematics, specifically differential calc...</td>\n      <td>220.000000</td>\n    </tr>\n    <tr>\n      <th>3</th>\n      <td>is a Japanese shōjo manga series written and i...</td>\n      <td>121.933333</td>\n    </tr>\n    <tr>\n      <th>4</th>\n      <td>Robert Milner \"Rob\" Bradley, Jr. (born August ...</td>\n      <td>79.692308</td>\n    </tr>\n  </tbody>\n</table>\n</div>"
     },
     "execution_count": 8,
     "metadata": {},
     "output_type": "execute_result"
    }
   ],
   "source": [
    "humanData_df.head()"
   ],
   "metadata": {
    "collapsed": false
   }
  },
  {
   "cell_type": "code",
   "execution_count": 9,
   "outputs": [
    {
     "data": {
      "text/plain": "                                                     text  avg_sentence_length\n0       Sexhow railway station was a railway station l...            73.833333\n1       In Finnish folklore, all places and things, an...            79.333333\n2       In mathematics, specifically differential calc...            81.800000\n3       is a Japanese shōjo manga series written and i...            60.909091\n4       Robert Milner \"Rob\" Bradley, Jr. (born August ...            69.545455\n...                                                   ...                  ...\n149995  Randy Borum is a Professor and Coordinator of ...            76.333333\n149996  Sa'och (, also, \"Sauch\") is an endangered, nuc...            92.666667\n149997  Philip C. Hanawalt (born 1931) is an American ...            87.000000\n149998  Vossius Gymnasium is a public gymnasium in the...            74.111111\n149999  Simone Stratigo (, Symeon Filippos Stratigos; ...            75.600000\n\n[150000 rows x 2 columns]",
      "text/html": "<div>\n<style scoped>\n    .dataframe tbody tr th:only-of-type {\n        vertical-align: middle;\n    }\n\n    .dataframe tbody tr th {\n        vertical-align: top;\n    }\n\n    .dataframe thead th {\n        text-align: right;\n    }\n</style>\n<table border=\"1\" class=\"dataframe\">\n  <thead>\n    <tr style=\"text-align: right;\">\n      <th></th>\n      <th>text</th>\n      <th>avg_sentence_length</th>\n    </tr>\n  </thead>\n  <tbody>\n    <tr>\n      <th>0</th>\n      <td>Sexhow railway station was a railway station l...</td>\n      <td>73.833333</td>\n    </tr>\n    <tr>\n      <th>1</th>\n      <td>In Finnish folklore, all places and things, an...</td>\n      <td>79.333333</td>\n    </tr>\n    <tr>\n      <th>2</th>\n      <td>In mathematics, specifically differential calc...</td>\n      <td>81.800000</td>\n    </tr>\n    <tr>\n      <th>3</th>\n      <td>is a Japanese shōjo manga series written and i...</td>\n      <td>60.909091</td>\n    </tr>\n    <tr>\n      <th>4</th>\n      <td>Robert Milner \"Rob\" Bradley, Jr. (born August ...</td>\n      <td>69.545455</td>\n    </tr>\n    <tr>\n      <th>...</th>\n      <td>...</td>\n      <td>...</td>\n    </tr>\n    <tr>\n      <th>149995</th>\n      <td>Randy Borum is a Professor and Coordinator of ...</td>\n      <td>76.333333</td>\n    </tr>\n    <tr>\n      <th>149996</th>\n      <td>Sa'och (, also, \"Sauch\") is an endangered, nuc...</td>\n      <td>92.666667</td>\n    </tr>\n    <tr>\n      <th>149997</th>\n      <td>Philip C. Hanawalt (born 1931) is an American ...</td>\n      <td>87.000000</td>\n    </tr>\n    <tr>\n      <th>149998</th>\n      <td>Vossius Gymnasium is a public gymnasium in the...</td>\n      <td>74.111111</td>\n    </tr>\n    <tr>\n      <th>149999</th>\n      <td>Simone Stratigo (, Symeon Filippos Stratigos; ...</td>\n      <td>75.600000</td>\n    </tr>\n  </tbody>\n</table>\n<p>150000 rows × 2 columns</p>\n</div>"
     },
     "execution_count": 9,
     "metadata": {},
     "output_type": "execute_result"
    }
   ],
   "source": [
    "gpt_df"
   ],
   "metadata": {
    "collapsed": false
   }
  },
  {
   "cell_type": "code",
   "execution_count": 11,
   "outputs": [
    {
     "data": {
      "text/plain": "count    150000.000000\nmean         87.283082\nstd          25.026595\nmin           9.210526\n25%          73.285714\n50%          85.750000\n75%          98.910985\nmax        1176.000000\nName: avg_sentence_length, dtype: float64"
     },
     "execution_count": 11,
     "metadata": {},
     "output_type": "execute_result"
    }
   ],
   "source": [
    "gpt_df['avg_sentence_length'].describe()"
   ],
   "metadata": {
    "collapsed": false
   }
  },
  {
   "cell_type": "code",
   "execution_count": 12,
   "outputs": [
    {
     "data": {
      "text/plain": "count    150000.000000\nmean        121.809221\nstd          88.147250\nmin          10.257143\n25%          93.833333\n50%         110.888889\n75%         131.285714\nmax        3127.000000\nName: avg_sentence_length, dtype: float64"
     },
     "execution_count": 12,
     "metadata": {},
     "output_type": "execute_result"
    }
   ],
   "source": [
    "humanData_df['avg_sentence_length'].describe()"
   ],
   "metadata": {
    "collapsed": false
   }
  },
  {
   "cell_type": "markdown",
   "source": [
    "# Look at those standard deviations, there's a very significant difference between the two! The AI is far more consistent in sentence length than a human!"
   ],
   "metadata": {
    "collapsed": false
   }
  },
  {
   "cell_type": "code",
   "execution_count": 13,
   "outputs": [
    {
     "data": {
      "text/plain": "626.3304704743197"
     },
     "execution_count": 13,
     "metadata": {},
     "output_type": "execute_result"
    }
   ],
   "source": [
    "gpt_df['avg_sentence_length'].var()"
   ],
   "metadata": {
    "collapsed": false
   }
  },
  {
   "cell_type": "code",
   "execution_count": 15,
   "outputs": [
    {
     "data": {
      "text/plain": "7769.9377154305785"
     },
     "execution_count": 15,
     "metadata": {},
     "output_type": "execute_result"
    }
   ],
   "source": [
    "humanData_df['avg_sentence_length'].var()"
   ],
   "metadata": {
    "collapsed": false
   }
  },
  {
   "cell_type": "markdown",
   "source": [
    "# There's also a massive difference in variability. We should remove outliers to confirm our results."
   ],
   "metadata": {
    "collapsed": false
   }
  },
  {
   "cell_type": "code",
   "execution_count": 24,
   "outputs": [],
   "source": [
    "gpt_avgs = gpt_df['avg_sentence_length']\n",
    "human_avgs = humanData_df['avg_sentence_length']"
   ],
   "metadata": {
    "collapsed": false
   }
  },
  {
   "cell_type": "code",
   "execution_count": 25,
   "outputs": [],
   "source": [
    "# x = x[x.between(x.quantile(.15), x.quantile(.85))] # without outliers\n",
    "gpt_avgs = gpt_avgs[gpt_avgs.between(gpt_avgs.quantile(.15), gpt_avgs.quantile(.85))]\n",
    "human_avgs = human_avgs[human_avgs.between(human_avgs.quantile(.15), human_avgs.quantile(.85))]"
   ],
   "metadata": {
    "collapsed": false
   }
  },
  {
   "cell_type": "code",
   "execution_count": 26,
   "outputs": [
    {
     "data": {
      "text/plain": "0    73.833333\n1    79.333333\n2    81.800000\n4    69.545455\n5    92.333333\nName: avg_sentence_length, dtype: float64"
     },
     "execution_count": 26,
     "metadata": {},
     "output_type": "execute_result"
    }
   ],
   "source": [
    "gpt_avgs.head()"
   ],
   "metadata": {
    "collapsed": false
   }
  },
  {
   "cell_type": "code",
   "execution_count": 27,
   "outputs": [
    {
     "data": {
      "text/plain": "count    105038.000000\nmean         86.019669\nstd          10.648825\nmin          66.666667\n25%          77.333333\n50%          85.750000\n75%          94.500000\nmax         106.833333\nName: avg_sentence_length, dtype: float64"
     },
     "execution_count": 27,
     "metadata": {},
     "output_type": "execute_result"
    }
   ],
   "source": [
    "gpt_avgs.describe()"
   ],
   "metadata": {
    "collapsed": false
   }
  },
  {
   "cell_type": "code",
   "execution_count": 28,
   "outputs": [
    {
     "data": {
      "text/plain": "count    105025.000000\nmean        112.051693\nstd          15.600288\nmin          85.312500\n25%          99.250000\n50%         110.888889\n75%         124.071429\nmax         144.750000\nName: avg_sentence_length, dtype: float64"
     },
     "execution_count": 28,
     "metadata": {},
     "output_type": "execute_result"
    }
   ],
   "source": [
    "human_avgs.describe()"
   ],
   "metadata": {
    "collapsed": false
   }
  },
  {
   "cell_type": "code",
   "execution_count": 29,
   "outputs": [
    {
     "data": {
      "text/plain": "113.39746532305534"
     },
     "execution_count": 29,
     "metadata": {},
     "output_type": "execute_result"
    }
   ],
   "source": [
    "gpt_avgs.var()"
   ],
   "metadata": {
    "collapsed": false
   }
  },
  {
   "cell_type": "code",
   "execution_count": 30,
   "outputs": [
    {
     "data": {
      "text/plain": "243.36899097535198"
     },
     "execution_count": 30,
     "metadata": {},
     "output_type": "execute_result"
    }
   ],
   "source": [
    "human_avgs.var()"
   ],
   "metadata": {
    "collapsed": false
   }
  },
  {
   "cell_type": "markdown",
   "source": [
    "# Still a very significant difference as seen in variablity and standard deviation"
   ],
   "metadata": {
    "collapsed": false
   }
  },
  {
   "cell_type": "code",
   "execution_count": 31,
   "outputs": [
    {
     "data": {
      "text/plain": "<Figure size 640x480 with 1 Axes>",
      "image/png": "[encoded data removed]"
     },
     "metadata": {},
     "output_type": "display_data"
    }
   ],
   "source": [
    "box_data = [gpt_avgs, human_avgs]\n",
    "plt.boxplot(box_data)\n",
    "plt.show()"
   ],
   "metadata": {
    "collapsed": false
   }
  },
  {
   "cell_type": "markdown",
   "source": [
    "# Can it may be possible to detect with some certaintity if the average length falls within the quartiles. Lets look at the data with the variablities"
   ],
   "metadata": {
    "collapsed": false
   }
  },
  {
   "cell_type": "code",
   "execution_count": null,
   "outputs": [],
   "source": [],
   "metadata": {
    "collapsed": false
   }
  }
 ],
 "metadata": {
  "kernelspec": {
   "display_name": "Python 3",
   "language": "python",
   "name": "python3"
  },
  "language_info": {
   "codemirror_mode": {
    "name": "ipython",
    "version": 2
   },
   "file_extension": ".py",
   "mimetype": "text/x-python",
   "name": "python",
   "nbconvert_exporter": "python",
   "pygments_lexer": "ipython2",
   "version": "2.7.6"
  }
 },
 "nbformat": 4,
 "nbformat_minor": 0
}
